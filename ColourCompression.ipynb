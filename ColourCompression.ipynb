{
 "cells": [
  {
   "attachments": {},
   "cell_type": "markdown",
   "metadata": {},
   "source": [
    "\n",
    "# **Project 1: Colour Compression**\n",
    "Huy G. Tong $^{1 *}$ \\\n",
    "$^{1}$ *Faculty of Information Technology, VNUHCM - University of Science, Vietnam*\n"
   ]
  },
  {
   "attachments": {},
   "cell_type": "markdown",
   "metadata": {},
   "source": [
    "### **ABSTRACT**\n",
    "**K-means clustering** is an unsupervised learning algorithm used to group data points into **$k$** number of clusters. This algorithm is used extensively in machine learning and data science. For this project, we will implement $k$-means clustering to reduce the number of colours of an input image, hence colour compression. The *PDF* file included in this folder has demonstrated the overall introduction to the algorithm as well as step by step instructions. This Notebook will then focus on the implementation aspect of the project."
   ]
  },
  {
   "attachments": {},
   "cell_type": "markdown",
   "metadata": {},
   "source": [
    "### **IMPLEMENTATION**\n",
    "This section will display the implementation of the K-means algorithm in Python. First we have to import all necessary packages:"
   ]
  },
  {
   "cell_type": "code",
   "execution_count": null,
   "metadata": {},
   "outputs": [],
   "source": [
    "import numpy as np\n",
    "import matplotlib.pyplot as plt\n",
    "import PIL"
   ]
  },
  {
   "cell_type": "markdown",
   "metadata": {},
   "source": [
    "Next, we need a function to generate `K` initial centroids based on the input mode"
   ]
  },
  {
   "cell_type": "code",
   "execution_count": null,
   "metadata": {},
   "outputs": [],
   "source": [
    "def generate_centroids(data, n_chan, k, mode=\"random\"):\n",
    "    if mode == 'in_pixels':\n",
    "        return data[np.random.choice(len(data), size=k, replace=False)]\n",
    "    \n",
    "    centroids = np.random.choice(256, (k, n_chan))\n",
    "    while len(np.unique(centroids, axis=0)) != k:\n",
    "        centroids = np.random.choice(256, (k, n_chan))\n",
    "\n",
    "    return centroids"
   ]
  },
  {
   "attachments": {},
   "cell_type": "markdown",
   "metadata": {},
   "source": [
    "Our K-means function will be installed bellow. This function will perform the main calculation for K-means clustering, the output of this function will be used to reduce the number of colours of the original image to a number of `K` colours."
   ]
  },
  {
   "cell_type": "code",
   "execution_count": null,
   "metadata": {},
   "outputs": [],
   "source": [
    "def k_means_clustering(img_1d, clusters, max_iter=1000, init_centroids=\"random\", quiet=False):\n",
    "    '''\n",
    "    K-Means algorithm\n",
    "    \n",
    "    Inputs: \n",
    "        img_1d : np.ndarray with shape=(height * width, num_channels)\n",
    "            Original image in 1d array\n",
    "       \n",
    "        clusters : int\n",
    "            Number of clusters\n",
    "            \n",
    "        max_iter : int\n",
    "            Max iterations, default is 1000\n",
    "            \n",
    "        init_centroids : str\n",
    "            The way which use to init centroids\n",
    "            'random' --> centroid has `c` channels, with `c` is initial random in [0,255]\n",
    "            'in_pixels' --> centroid is a random pixels of original image\n",
    "\n",
    "        quiet : bool\n",
    "            Option on whether to display progress on the terminal\n",
    "            \n",
    "    Outputs:\n",
    "        centroids : np.ndarray with shape=(k_clusters, num_channels)\n",
    "            Store color centroids\n",
    "            \n",
    "        labels : np.ndarray with shape=(height * width, )\n",
    "            Store label for pixels (cluster's index on which the pixel belongs)\n",
    "\n",
    "    '''\n",
    "\n",
    "    assert init_centroids in [\"random\", \"in_pixels\"], \\\n",
    "        \"Centroid initialization mode not found\"\n",
    "    \n",
    "    n_channels = img_1d.shape[-1]\n",
    "    centroids = generate_centroids(img_1d, n_channels, clusters, mode=init_centroids)\n",
    "\n",
    "    if not quiet:\n",
    "        print(\"Initial centroids:\")\n",
    "        print(centroids)\n",
    "    \n",
    "    labels = np.array([0 for _ in range(img_1d.shape[0])])\n",
    "    \n",
    "    for i in range(max_iter):\n",
    "        \n",
    "        # Calculate the Euclidean distances between each data point and centroids\n",
    "        #\n",
    "        #   distance.shape == (K_clusters, num_data_points)\n",
    "        # \n",
    "        # Each row corresponds to a centroid, each column coresponds to a datapoint,\n",
    "        # and each value is the distance between a data point and a centroid\n",
    "        distances = np.sqrt(np.sum(np.square(img_1d - centroids[:, np.newaxis]), axis=2))\n",
    "\n",
    "        # Assign data points to closest centroid by selecting the \n",
    "        # index of the minimum distance\n",
    "        labels = np.argmin(distances, axis=0)\n",
    "        \n",
    "        new_centroids = []\n",
    "\n",
    "        for k in range(clusters):\n",
    "            members = img_1d[labels == k]\n",
    "\n",
    "            if members.size != 0:\n",
    "                cent_mean = members.mean(axis=0)\n",
    "                new_centroids.append(cent_mean)\n",
    "            \n",
    "            # Discard the empty cluster\n",
    "            else:\n",
    "                if not quiet:\n",
    "                    print(\"Empty cluster encountered!\")\n",
    "                    \n",
    "                clusters -= 1\n",
    "            \n",
    "        new_centroids = np.array(new_centroids)\n",
    "        \n",
    "        if not quiet and i % 10 == 0:\n",
    "            print(f\"--- Iteration {str(i)}:\\n Current centroids: \\n{str(centroids)}\\n\")\n",
    "            print(f\"New centroids: \\n{str(new_centroids)}\\n\")\n",
    "\n",
    "        if centroids.shape[0] == new_centroids.shape[0] \\\n",
    "            and np.all(centroids == new_centroids): break\n",
    "\n",
    "        centroids = new_centroids \n",
    "\n",
    "    if not quiet: \n",
    "        print(\"\\nFINISHED! Empty clusters are automatically removed from the final result\\n\")\n",
    "        print(\"Final:\")\n",
    "        print(centroids)\n",
    "\n",
    "    return centroids, labels"
   ]
  },
  {
   "cell_type": "markdown",
   "metadata": {},
   "source": [
    "The majority of our program's functionalities will be put inside the `compress_colours` function."
   ]
  },
  {
   "cell_type": "code",
   "execution_count": null,
   "metadata": {},
   "outputs": [],
   "source": [
    "def compress_colours(pixels, image_size, K_clusters, init_mode=\"random\"):\n",
    "    '''\n",
    "    Reduce the number of colours in an image to a number of K colours\n",
    "    \n",
    "    Inputs:\n",
    "        pixels : np.ndarray with shape=(width, height, num_channels)\n",
    "            Original image as a numpy array\n",
    "\n",
    "        image_size : tuple of int\n",
    "            Width and height of the image\n",
    "\n",
    "        K_clusters : int\n",
    "            Number of expected colour clusters\n",
    "            \n",
    "    Outputs:\n",
    "        img_compressed : np.ndarray with shape=(width, height, num_channels)\n",
    "            Reconstructed image as a numpy array with no more than K colours\n",
    "\n",
    "    '''\n",
    "\n",
    "    width, height = image_size\n",
    "\n",
    "    # Flatten out the array for easier calculation\n",
    "    num_channels = pixels.shape[-1]\n",
    "    pixels = np.reshape(pixels, (-1, num_channels))\n",
    "\n",
    "    # Main calculations will happen here\n",
    "    colour_centroids, labels = k_means_clustering(\n",
    "        img_1d=pixels,\n",
    "        clusters=K_clusters,\n",
    "        init_centroids=init_mode\n",
    "    )\n",
    "\n",
    "    # Assign the values of the centroids to its member pixels, \n",
    "    # which will reduce the amount of colours in the image\n",
    "    for i_label, labels in enumerate(labels):\n",
    "        pixels[i_label] = colour_centroids[labels]\n",
    "\n",
    "    # Reshape the pixels into the original shape\n",
    "    img_compressed = np.reshape(pixels, (width, height, num_channels))\n",
    "\n",
    "    return img_compressed"
   ]
  },
  {
   "attachments": {},
   "cell_type": "markdown",
   "metadata": {},
   "source": [
    "Now, we can start preparing our data for the fun part. Our input would be a `2D image` and each pixel is a combination of multiple colour channels. For example, each pixel of an `RGB` image take 3 values from 0 to 255 to represent the intensity of the *Red*, *Green*, and *Blue* making up the colour of that pixel. A `CMYK` image works similarly, but instead of 3 values per pixel, it is 4 values corresponding to *Cyan*, *Magenta*, *Yellow*, and *Key* which is black."
   ]
  },
  {
   "cell_type": "code",
   "execution_count": null,
   "metadata": {},
   "outputs": [],
   "source": [
    "def handle_input():\n",
    "    img_path = input(\"Enter image path: \")\n",
    "\n",
    "    K_clusters = input(\"Enter the number of clusters: \")\n",
    "    K_clusters = int(K_clusters)\n",
    "\n",
    "    init_mode = input(\"Enter the centroid initialization mode (random, in_pixels): \")\n",
    "    assert init_mode in [\"random\", \"in_pixels\"], \"Initialization mode not found\"\n",
    "\n",
    "    output_type = input(\"Enter output file type (pdf, png)\")\n",
    "    assert output_type in [\"png\", \"pdf\"], \"Output file type not supported\"\n",
    "\n",
    "    with PIL.Image.open(img_path) as img:\n",
    "        pixels = np.array(img)\n",
    "\n",
    "    return img_path, pixels, K_clusters, init_mode, output_type\n"
   ]
  },
  {
   "cell_type": "markdown",
   "metadata": {},
   "source": [
    "Finally, the `main` function will act as our driver. In this function, we will process the image using the defined function, display the image with `MatPlotLib`, as well as export the compressed image as the user-defined file type:"
   ]
  },
  {
   "cell_type": "code",
   "execution_count": null,
   "metadata": {},
   "outputs": [],
   "source": [
    "def main():\n",
    "\n",
    "    img_path, pixels, K_clusters, init_mode, output_type = handle_input()\n",
    "\n",
    "    # Save a copy of the original for presentation purposes\n",
    "    original = pixels.copy()\n",
    "\n",
    "    width, height = original.shape[0], original.shape[1]\n",
    "\n",
    "    img_compressed = compress_colours(\n",
    "        pixels=pixels, \n",
    "        image_size=(width, height),\n",
    "        K_clusters=K_clusters,\n",
    "        init_mode=init_mode\n",
    "    )\n",
    "\n",
    "    # Save compressed image\n",
    "    # img_out = PIL.Image.fromarray(img_compressed)\n",
    "    plt.imsave(img_path + \"_k=\" + str(K_clusters) + \"_compressed.\" + output_type, img_compressed)\n",
    "    print(f\"Compressed image saved at {img_path}_k={str(K_clusters)}_compressed.{output_type}\")\n",
    "\n",
    "    # Left plot showing the original input image\n",
    "    plt.subplot(1, 2, 1)\n",
    "    plt.imshow(original)\n",
    "    plt.title(f\"Original {img_path}\")\n",
    "\n",
    "    # Right plot showing the compressed colours image\n",
    "    plt.subplot(1, 2, 2)\n",
    "    plt.imshow(img_compressed)\n",
    "    plt.title(f\"Colours compressed with k = {str(K_clusters)}\")\n",
    "\n",
    "    fig = plt.gcf()\n",
    "    fig.set_size_inches((15, 11), forward=False)\n",
    "    fig.savefig(img_path + \"_original_k=\" + str(K_clusters) + \"_comparison.\" + output_type)\n",
    "\n",
    "    plt.show()"
   ]
  },
  {
   "cell_type": "markdown",
   "metadata": {},
   "source": [
    "Let us call the `main` function and observe the results!"
   ]
  },
  {
   "cell_type": "code",
   "execution_count": null,
   "metadata": {},
   "outputs": [],
   "source": [
    "main()"
   ]
  },
  {
   "cell_type": "markdown",
   "metadata": {},
   "source": [
    "### **REFERENCES**\n",
    "- [\"$k$-means clustering\"](https://en.wikipedia.org/wiki/K-means_clustering), **Wikipedia**\n",
    "- [\"K means Clustering – Introduction\"](https://www.geeksforgeeks.org/k-means-clustering-introduction/), **GeeksforGeeks**\n",
    "- [\"How to Convert images to NumPy array?\"](https://www.geeksforgeeks.org/how-to-convert-images-to-numpy-array/), by *priyarajtt* on **GeeksforGeeks**\n",
    "- [\"Bài 4: K-means Clustering\"](https://machinelearningcoban.com/2017/01/01/kmeans/), **Machine Learning cơ bản**\n",
    "- [\"How do I use np.newaxis?\"](https://stackoverflow.com/questions/29241056/how-do-i-use-np-newaxis), by *Yue Harriet Huang* on **Stack Overflow**\n",
    "- [\"Numpy Axes, Explained\"](https://www.sharpsightlabs.com/blog/numpy-axes-explained/), by *Joshua Ebner* on **Sharp Sight**\n",
    "- [Numpy documentation on broadcasting](https://numpy.org/doc/stable/user/basics.broadcasting.html)"
   ]
  }
 ],
 "metadata": {
  "kernelspec": {
   "display_name": "Python 3",
   "language": "python",
   "name": "python3"
  },
  "language_info": {
   "codemirror_mode": {
    "name": "ipython",
    "version": 3
   },
   "file_extension": ".py",
   "mimetype": "text/x-python",
   "name": "python",
   "nbconvert_exporter": "python",
   "pygments_lexer": "ipython3",
   "version": "3.10.5"
  },
  "orig_nbformat": 4
 },
 "nbformat": 4,
 "nbformat_minor": 2
}
